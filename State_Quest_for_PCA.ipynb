{
  "nbformat": 4,
  "nbformat_minor": 0,
  "metadata": {
    "colab": {
      "name": "State_Quest for PCA.ipynb",
      "version": "0.3.2",
      "provenance": [],
      "collapsed_sections": [],
      "include_colab_link": true
    },
    "kernelspec": {
      "name": "python3",
      "display_name": "Python 3"
    }
  },
  "cells": [
    {
      "cell_type": "markdown",
      "metadata": {
        "id": "view-in-github",
        "colab_type": "text"
      },
      "source": [
        "<a href=\"https://colab.research.google.com/github/alifele/PCA_methods/blob/master/State_Quest_for_PCA.ipynb\" target=\"_parent\"><img src=\"https://colab.research.google.com/assets/colab-badge.svg\" alt=\"Open In Colab\"/></a>"
      ]
    },
    {
      "metadata": {
        "id": "n2fkcSrDg7jC",
        "colab_type": "code",
        "colab": {}
      },
      "cell_type": "code",
      "source": [
        "import numpy as np\n",
        "import matplotlib.pyplot as plt\n",
        "import pandas as pd\n",
        "import random as rnd\n",
        "from sklearn import preprocessing \n",
        "from sklearn.decomposition import PCA"
      ],
      "execution_count": 0,
      "outputs": []
    },
    {
      "metadata": {
        "id": "0mIbm1nDilwH",
        "colab_type": "code",
        "colab": {
          "base_uri": "https://localhost:8080/",
          "height": 435
        },
        "outputId": "34b2df8a-59ca-43bb-c3b7-e10b4b6a39a3"
      },
      "cell_type": "code",
      "source": [
        "genes = ['gene'+ str(i) for i in range(1,101)]\n",
        "wt = ['wt' + str(i) for i in range(1,6)]\n",
        "ko = ['ko' + str(i) for i in range(1,6)]\n",
        "#print(genes,wt,ko)\n",
        "data = pd.DataFrame(columns = [*wt,*ko],index=genes)\n",
        "#print(data.index)\n",
        "for gene in data.index:\n",
        "  data.loc[gene,'wt1':'wt5'] = np.random.poisson(lam = rnd.randrange(10,1000),size=5)\n",
        "  data.loc[gene,'ko1':'ko5'] = np.random.poisson(lam = rnd.randrange(10,1000),size=5)\n",
        "#print(data.head())\n",
        "data = data\n",
        "scaled_data = preprocessing.scale(data)\n",
        "print(data.shape)\n",
        "print(scaled_data.shape)\n",
        "pca = PCA()\n",
        "pca.fit(scaled_data)\n",
        "pca_data = pca.transform(scaled_data)\n",
        "per_var = np.round(pca.explained_variance_ratio_ * 100,decimals = 1)\n",
        "labels = ['pc '+ str(x) for x in range(1,len(per_var)+1)]\n",
        "plt.bar(x= range(1,len(per_var)+1), height= per_var,tick_label=labels)"
      ],
      "execution_count": 10,
      "outputs": [
        {
          "output_type": "stream",
          "text": [
            "(100, 10)\n",
            "(100, 10)\n"
          ],
          "name": "stdout"
        },
        {
          "output_type": "stream",
          "text": [
            "/usr/local/lib/python3.6/dist-packages/ipykernel_launcher.py:12: DataConversionWarning: Data with input dtype int64 were all converted to float64 by the scale function.\n",
            "  if sys.path[0] == '':\n"
          ],
          "name": "stderr"
        },
        {
          "output_type": "execute_result",
          "data": {
            "text/plain": [
              "<BarContainer object of 10 artists>"
            ]
          },
          "metadata": {
            "tags": []
          },
          "execution_count": 10
        },
        {
          "output_type": "display_data",
          "data": {
            "image/png": "[encoded data removed]",
            "text/plain": [
              "<Figure size 576x396 with 1 Axes>"
            ]
          },
          "metadata": {
            "tags": []
          }
        }
      ]
    },
    {
      "metadata": {
        "id": "2Qkk57dli275",
        "colab_type": "code",
        "colab": {}
      },
      "cell_type": "code",
      "source": [
        ""
      ],
      "execution_count": 0,
      "outputs": []
    }
  ]
}